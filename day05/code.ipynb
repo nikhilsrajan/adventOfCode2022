{
 "cells": [
  {
   "cell_type": "code",
   "execution_count": 1,
   "metadata": {},
   "outputs": [],
   "source": [
    "import copy\n",
    "import typing"
   ]
  },
  {
   "cell_type": "code",
   "execution_count": 2,
   "metadata": {},
   "outputs": [],
   "source": [
    "def move(\n",
    "    crates:typing.Dict[int, typing.List[str]],\n",
    "    move_reverse:bool,\n",
    "    from_crate_id, \n",
    "    move_count, \n",
    "    to_crate_id,\n",
    "):\n",
    "    crates = copy.deepcopy(crates)\n",
    "    from_crate = crates[from_crate_id]\n",
    "    to_crate = crates[to_crate_id]\n",
    "    to_move = from_crate[-move_count:]\n",
    "    if move_reverse:\n",
    "        to_move.reverse()\n",
    "    to_crate += to_move\n",
    "    from_crate = from_crate[:-move_count]\n",
    "    crates[from_crate_id] = from_crate\n",
    "    crates[to_crate_id] = to_crate\n",
    "    return crates\n",
    "\n",
    "\n",
    "def parse(instruction:str):\n",
    "    splits = instruction.split(' ')\n",
    "    return {\n",
    "        'from_crate_id': int(splits[3]),\n",
    "        'to_crate_id': int(splits[5]),\n",
    "        'move_count': int(splits[1]),\n",
    "    }\n",
    "\n",
    "\n",
    "def get_output(\n",
    "    crates:typing.Dict[int, typing.List[str]], \n",
    "    input_filepath:str, \n",
    "    move_reverse:bool,\n",
    "):\n",
    "    with open(input_filepath, 'r') as h:\n",
    "        for line in h.readlines():\n",
    "            instruction = line.replace('\\n', '')\n",
    "            crates = move(\n",
    "                crates=crates,\n",
    "                move_reverse=move_reverse,\n",
    "                **parse(instruction=instruction)\n",
    "            )\n",
    "    output = ''\n",
    "    keys = list(crates.keys())\n",
    "    keys.sort()\n",
    "    for key in keys:\n",
    "        output += crates[key][-1]\n",
    "    return output"
   ]
  },
  {
   "attachments": {},
   "cell_type": "markdown",
   "metadata": {},
   "source": [
    "```\n",
    "                [M]     [V]     [L]\n",
    "[G]             [V] [C] [G]     [D]\n",
    "[J]             [Q] [W] [Z] [C] [J]\n",
    "[W]         [W] [G] [V] [D] [G] [C]\n",
    "[R]     [G] [N] [B] [D] [C] [M] [W]\n",
    "[F] [M] [H] [C] [S] [T] [N] [N] [N]\n",
    "[T] [W] [N] [R] [F] [R] [B] [J] [P]\n",
    "[Z] [G] [J] [J] [W] [S] [H] [S] [G]\n",
    " 1   2   3   4   5   6   7   8   9 \n",
    "```"
   ]
  },
  {
   "cell_type": "code",
   "execution_count": 3,
   "metadata": {},
   "outputs": [],
   "source": [
    "crates = {\n",
    "    1: ['Z', 'T', 'F', 'R', 'W', 'J', 'G'],\n",
    "    2: ['G', 'W', 'M'],\n",
    "    3: ['J', 'N', 'H', 'G'],\n",
    "    4: ['J', 'R', 'C', 'N', 'W'],\n",
    "    5: ['W', 'F', 'S', 'B', 'G', 'Q', 'V', 'M'],\n",
    "    6: ['S', 'R', 'T', 'D', 'V', 'W', 'C'],\n",
    "    7: ['H', 'B', 'N', 'C', 'D', 'Z', 'G', 'V'],\n",
    "    8: ['S', 'J', 'N', 'M', 'G', 'C'],\n",
    "    9: ['G', 'P', 'N', 'W', 'C', 'J', 'D', 'L'],\n",
    "}\n",
    "\n",
    "move_reverse = False"
   ]
  },
  {
   "cell_type": "code",
   "execution_count": 4,
   "metadata": {},
   "outputs": [
    {
     "data": {
      "text/plain": [
       "'SSCGWJCRB'"
      ]
     },
     "execution_count": 4,
     "metadata": {},
     "output_type": "execute_result"
    }
   ],
   "source": [
    "get_output(\n",
    "    crates=crates,\n",
    "    input_filepath='input.txt',\n",
    "    move_reverse=move_reverse,\n",
    ")"
   ]
  },
  {
   "cell_type": "code",
   "execution_count": 5,
   "metadata": {},
   "outputs": [
    {
     "data": {
      "text/plain": [
       "'220 kisses please.'"
      ]
     },
     "execution_count": 5,
     "metadata": {},
     "output_type": "execute_result"
    }
   ],
   "source": [
    "f'{44 * 5} kisses please.'"
   ]
  }
 ],
 "metadata": {
  "kernelspec": {
   "display_name": ".venv",
   "language": "python",
   "name": "python3"
  },
  "language_info": {
   "codemirror_mode": {
    "name": "ipython",
    "version": 3
   },
   "file_extension": ".py",
   "mimetype": "text/x-python",
   "name": "python",
   "nbconvert_exporter": "python",
   "pygments_lexer": "ipython3",
   "version": "3.10.8 (main, Oct 13 2022, 09:48:40) [Clang 14.0.0 (clang-1400.0.29.102)]"
  },
  "orig_nbformat": 4,
  "vscode": {
   "interpreter": {
    "hash": "9d9376a6f4dcce807006314559770e2b4a997aa87b6d3d290e918de97f5080bf"
   }
  }
 },
 "nbformat": 4,
 "nbformat_minor": 2
}
