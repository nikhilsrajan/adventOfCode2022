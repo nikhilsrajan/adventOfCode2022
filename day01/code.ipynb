{
 "cells": [
  {
   "cell_type": "code",
   "execution_count": 23,
   "metadata": {},
   "outputs": [],
   "source": [
    "current_elf_stack = []\n",
    "all_elves = []\n",
    "max_elf = 0\n",
    "N = -1\n",
    "elf_count = 0\n",
    "to_print = False\n",
    "with open('input.txt', 'r') as h:\n",
    "    for line in h.readlines():\n",
    "        line = line.replace('\\n', '')\n",
    "        if line == '':\n",
    "            current_elf = sum(current_elf_stack)\n",
    "            all_elves.append(current_elf)\n",
    "            if to_print:\n",
    "                print(current_elf)\n",
    "            if current_elf > max_elf:\n",
    "                max_elf = current_elf\n",
    "            current_elf_stack = []\n",
    "            elf_count += 1\n",
    "            if elf_count == N:\n",
    "                break\n",
    "        else:\n",
    "            count = int(line)\n",
    "            current_elf_stack.append(count)"
   ]
  },
  {
   "cell_type": "code",
   "execution_count": 25,
   "metadata": {},
   "outputs": [],
   "source": [
    "all_elves.sort(reverse=True)"
   ]
  },
  {
   "cell_type": "code",
   "execution_count": 27,
   "metadata": {},
   "outputs": [
    {
     "data": {
      "text/plain": [
       "[66487, 65413, 65401]"
      ]
     },
     "execution_count": 27,
     "metadata": {},
     "output_type": "execute_result"
    }
   ],
   "source": [
    "all_elves[:3]"
   ]
  },
  {
   "cell_type": "code",
   "execution_count": 29,
   "metadata": {},
   "outputs": [
    {
     "data": {
      "text/plain": [
       "197301"
      ]
     },
     "execution_count": 29,
     "metadata": {},
     "output_type": "execute_result"
    }
   ],
   "source": [
    "sum(all_elves[:3])"
   ]
  },
  {
   "cell_type": "code",
   "execution_count": null,
   "metadata": {},
   "outputs": [],
   "source": []
  }
 ],
 "metadata": {
  "kernelspec": {
   "display_name": ".venv",
   "language": "python",
   "name": "python3"
  },
  "language_info": {
   "codemirror_mode": {
    "name": "ipython",
    "version": 3
   },
   "file_extension": ".py",
   "mimetype": "text/x-python",
   "name": "python",
   "nbconvert_exporter": "python",
   "pygments_lexer": "ipython3",
   "version": "3.10.8 (main, Oct 13 2022, 09:48:40) [Clang 14.0.0 (clang-1400.0.29.102)]"
  },
  "orig_nbformat": 4,
  "vscode": {
   "interpreter": {
    "hash": "9d9376a6f4dcce807006314559770e2b4a997aa87b6d3d290e918de97f5080bf"
   }
  }
 },
 "nbformat": 4,
 "nbformat_minor": 2
}
