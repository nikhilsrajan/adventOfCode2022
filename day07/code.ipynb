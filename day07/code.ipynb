{
 "cells": [
  {
   "cell_type": "code",
   "execution_count": 1,
   "metadata": {},
   "outputs": [],
   "source": [
    "import json"
   ]
  },
  {
   "cell_type": "code",
   "execution_count": 2,
   "metadata": {},
   "outputs": [],
   "source": [
    "class F(object):\n",
    "    NODE_COUNTER = 0\n",
    "    def __init__(self, name, is_file:bool, parent=None, size:int=-1):\n",
    "        self.name = name\n",
    "        self.parent = parent\n",
    "        self.children = {}\n",
    "        self.is_file = is_file\n",
    "        self.size = size\n",
    "        self.id = F.NODE_COUNTER\n",
    "        F.NODE_COUNTER += 1\n",
    "    \n",
    "    def add_child(self, name, is_file, size:int=-1):\n",
    "        self.children[name] = F(name=name, is_file=is_file, parent=self, size=size)\n",
    "        return self.children[name]\n",
    "\n",
    "\n",
    "class FileSystem(object):\n",
    "    def __init__(self):\n",
    "        self.root = F(name='/', is_file=False)\n",
    "        self.pointer = self.root\n",
    "    \n",
    "    def make_directory(self, name):\n",
    "        self.pointer.add_child(name=name, is_file=False)\n",
    "\n",
    "    def make_file(self, name, size):\n",
    "        self.pointer.add_child(name=name, is_file=True, size=size)\n",
    "    \n",
    "    def cd(self, name):\n",
    "        if name == '..':\n",
    "            self.pointer = self.pointer.parent\n",
    "        else:\n",
    "            self.pointer = self.pointer.children[name]\n",
    "\n",
    "\n",
    "def F_to_dict(f:F, _dict:dict={}):\n",
    "    if f.is_file:\n",
    "        _dict[f.name] = f.size\n",
    "    else:\n",
    "        _dict[f.name] = {}\n",
    "        for child_name, child_f in f.children.items():\n",
    "            F_to_dict(f=child_f, _dict=_dict[f.name])\n",
    "    return _dict\n",
    "\n",
    "\n",
    "def get_size(f:F):\n",
    "    size = 0\n",
    "    if f.is_file:\n",
    "        size += f.size\n",
    "    else:\n",
    "        for child in f.children.values():\n",
    "            size += get_size(f=child)\n",
    "    return size\n",
    "\n",
    "\n",
    "def get_size_of_all_folders(f:F, dir_size={}):\n",
    "    if not f.is_file:\n",
    "        dir_size[f.id] = get_size(f)\n",
    "        for _i, child in enumerate(f.children.values(), start=1):\n",
    "            dir_size = get_size_of_all_folders(f=child, dir_size=dir_size)\n",
    "    return dir_size"
   ]
  },
  {
   "cell_type": "code",
   "execution_count": 3,
   "metadata": {},
   "outputs": [],
   "source": [
    "def create_fs_from_input_txt(input_filepath):\n",
    "    with open(input_filepath, 'r') as h:\n",
    "        lines = [line.replace('\\n', '') for line in h.readlines()]\n",
    "\n",
    "    fs = FileSystem()\n",
    "\n",
    "    i = 1\n",
    "    while i < len(lines):\n",
    "        line = lines[i]\n",
    "        splits = line.split(' ')\n",
    "        if splits[0] != '$':\n",
    "            raise ValueError('something is wrong [1]')\n",
    "        if splits[1] == 'ls':\n",
    "            i += 1\n",
    "            while i < len(lines) and lines[i].split(' ')[0] != '$':\n",
    "                splits = lines[i].split(' ')\n",
    "                if splits[0] == 'dir':\n",
    "                    fs.make_directory(name=splits[1])\n",
    "                else:\n",
    "                    fs.make_file(name=splits[1], size=int(splits[0]))\n",
    "                i += 1\n",
    "        elif splits[1] == 'cd':\n",
    "            fs.cd(name=splits[2])\n",
    "            i += 1\n",
    "        else:\n",
    "            raise ValueError('something is wrong [2]')\n",
    "    \n",
    "    return fs"
   ]
  },
  {
   "cell_type": "code",
   "execution_count": 4,
   "metadata": {},
   "outputs": [],
   "source": [
    "def delete_F(f:F):\n",
    "    if f.is_file:\n",
    "        del f\n",
    "    else:\n",
    "        for child in f.children.values():\n",
    "            delete_F(f=child)\n",
    "        del f.children\n",
    "        del f"
   ]
  },
  {
   "attachments": {},
   "cell_type": "markdown",
   "metadata": {},
   "source": [
    "### Task 1"
   ]
  },
  {
   "cell_type": "code",
   "execution_count": 5,
   "metadata": {},
   "outputs": [],
   "source": [
    "fs = create_fs_from_input_txt(input_filepath='input.txt')"
   ]
  },
  {
   "cell_type": "code",
   "execution_count": 6,
   "metadata": {},
   "outputs": [],
   "source": [
    "dir_size_dict = get_size_of_all_folders(f=fs.root, dir_size={})"
   ]
  },
  {
   "cell_type": "code",
   "execution_count": 7,
   "metadata": {},
   "outputs": [],
   "source": [
    "dir_size_sum_lte_100000 = 0\n",
    "for dir_id, dir_size in dir_size_dict.items():\n",
    "    if dir_id == dir_size_dict[fs.root.id]:\n",
    "        continue\n",
    "    if dir_size <= 100000:\n",
    "        dir_size_sum_lte_100000 += dir_size"
   ]
  },
  {
   "cell_type": "code",
   "execution_count": 8,
   "metadata": {},
   "outputs": [
    {
     "name": "stdout",
     "output_type": "stream",
     "text": [
      "1243729\n"
     ]
    }
   ],
   "source": [
    "print(dir_size_sum_lte_100000)"
   ]
  },
  {
   "attachments": {},
   "cell_type": "markdown",
   "metadata": {},
   "source": [
    "### Task 2"
   ]
  },
  {
   "cell_type": "code",
   "execution_count": 9,
   "metadata": {},
   "outputs": [],
   "source": [
    "total_disk_space = 70000000\n",
    "space_required_for_update = 30000000\n",
    "occupied_space = dir_size_dict[fs.root.id]\n",
    "space_to_free_up = space_required_for_update - (total_disk_space - occupied_space)"
   ]
  },
  {
   "cell_type": "code",
   "execution_count": 10,
   "metadata": {},
   "outputs": [
    {
     "data": {
      "text/plain": [
       "4376732"
      ]
     },
     "execution_count": 10,
     "metadata": {},
     "output_type": "execute_result"
    }
   ],
   "source": [
    "space_to_free_up"
   ]
  },
  {
   "cell_type": "code",
   "execution_count": 11,
   "metadata": {},
   "outputs": [],
   "source": [
    "dir_size_list = list(dir_size_dict.values())\n",
    "dir_size_list.sort()"
   ]
  },
  {
   "cell_type": "code",
   "execution_count": 12,
   "metadata": {},
   "outputs": [],
   "source": [
    "for dir_size in dir_size_list:\n",
    "    if dir_size >= space_to_free_up:\n",
    "        break"
   ]
  },
  {
   "cell_type": "code",
   "execution_count": 13,
   "metadata": {},
   "outputs": [
    {
     "name": "stdout",
     "output_type": "stream",
     "text": [
      "4443914\n"
     ]
    }
   ],
   "source": [
    "print(dir_size)"
   ]
  }
 ],
 "metadata": {
  "kernelspec": {
   "display_name": "Python 3",
   "language": "python",
   "name": "python3"
  },
  "language_info": {
   "codemirror_mode": {
    "name": "ipython",
    "version": 3
   },
   "file_extension": ".py",
   "mimetype": "text/x-python",
   "name": "python",
   "nbconvert_exporter": "python",
   "pygments_lexer": "ipython3",
   "version": "3.8.13"
  },
  "orig_nbformat": 4,
  "vscode": {
   "interpreter": {
    "hash": "ade7f5268cfdc2414b5e579a3b9dd2c70f353e05a938a37bad1f70d61af81773"
   }
  }
 },
 "nbformat": 4,
 "nbformat_minor": 2
}
